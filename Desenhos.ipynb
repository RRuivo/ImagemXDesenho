{
 "cells": [
  {
   "cell_type": "code",
   "execution_count": 1,
   "id": "ffc4a2d1",
   "metadata": {},
   "outputs": [],
   "source": [
    "import cv2\n",
    "import os"
   ]
  },
  {
   "cell_type": "code",
   "execution_count": 7,
   "id": "464586b0",
   "metadata": {},
   "outputs": [],
   "source": [
    "def transformar_em_desenho(arquivo, qtde_filtro):\n",
    "    imagem = cv2.imread(f\"Imagens/{arquivo}\")\n",
    "    imagem_pb = cv2.cvtColor(imagem, cv2.COLOR_BGR2GRAY)\n",
    "    #converter padrão para preto e branco\n",
    "    imagem_invertida = cv2.bitwise_not(imagem_pb)\n",
    "    imagem_blur = cv2.GaussianBlur(imagem_invertida, (qtde_filtro, qtde_filtro), 0)\n",
    "    \n",
    "    #GaussianBlur é um filtro\n",
    "    #info1= qual imagem, \n",
    "    #info2= tupla (qtde de filtro aplicado definido abaixo) kernel devem ser números positivos e ímpares\n",
    "    #info3 = desvio padrão\n",
    "    \n",
    "    imagem_blur_invertida = cv2.bitwise_not(imagem_blur)\n",
    "    imagem_desenho = cv2.divide(imagem_pb, imagem_blur_invertida, scale=256.0)\n",
    "    cv2.imwrite(f\"img_tratado/{arquivo}\", imagem_desenho)\n",
    "lista_arquivos = os.listdir(\"imagens\")\n",
    "\n",
    "for arquivo in lista_arquivos:\n",
    "    transformar_em_desenho(arquivo, 90)\n",
    "    "
   ]
  }
 ],
 "metadata": {
  "kernelspec": {
   "display_name": "Python 3 (ipykernel)",
   "language": "python",
   "name": "python3"
  },
  "language_info": {
   "codemirror_mode": {
    "name": "ipython",
    "version": 3
   },
   "file_extension": ".py",
   "mimetype": "text/x-python",
   "name": "python",
   "nbconvert_exporter": "python",
   "pygments_lexer": "ipython3",
   "version": "3.9.12"
  }
 },
 "nbformat": 4,
 "nbformat_minor": 5
}
